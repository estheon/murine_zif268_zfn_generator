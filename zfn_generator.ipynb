{
 "cells": [
  {
   "cell_type": "code",
   "execution_count": null,
   "metadata": {},
   "outputs": [],
   "source": [
    "# Import pandas package\n",
    "# Using the pandas package, read the sheet with the binding sites and modules\n",
    "import pandas as pd\n",
    "zfn_sheet = pd.read_excel(\"zfn.xlsx\")"
   ]
  },
  {
   "cell_type": "code",
   "execution_count": null,
   "metadata": {},
   "outputs": [],
   "source": [
    "# Variables representing the scaffold of murine Zif268 ZFN protein follow below\n",
    "# Modules fit between each string.\n",
    "# There are four string, so three modules\n",
    "\n",
    "s1 = \"MAAAKAEMQLMSPLQISDPFGSFPHSPTMDNYPKLEEMMLLSNGAPQFLGAAGTPEGSGGNSSSSTSSGGGGGGGSNSGSSAFNPQGEPSEQPYEHLTTESFSDIALNNEKAMVETSYPSQTTRLPPITYTGRFSLEPAPNSGNTLWPEPLFSLVSGLVSMTNPPTSSSSAPSPAASSSSSASQSPPLSCAVPSNDSSPIYSAAPTFPTPNTDIFPEPQSQAFPGSAGTALQYPPPAYPATKGGFQVPMIPDYLFPQQQGDLSLGTPDQKPFQGLENRTQQPSLTPLSTIKAFATQSGSQDLKALNTTYQSQLIKPSRMRKYPNRPSKTPPHERPYACPVESCDRRFS\"\n",
    "s2 = \"HIRIHTGQKPFQCRICMRNFS\"\n",
    "s3 = \"HIRTHTGEKPFACDICGRKFA\"\n",
    "s4 = \"HTKIHLRQKDKKADKSVVASPAASSLSSYPSPVATSYPSPATTSFPSPVPTSYSSPGSSTYPSPAHSGFPSPSVATTFASVPPAFPTQVSSFPSAGVSSSFSTSTGLSDMTATFSPRTIEIC\"\n"
   ]
  },
  {
   "cell_type": "code",
   "execution_count": null,
   "metadata": {},
   "outputs": [],
   "source": [
    "# Split apart the modules\n",
    "modules = zfn_sheet[\"MODULES\"]\n",
    "modules = list(modules)\n",
    "for i in range(len(modules)):\n",
    "    modules[i] = modules[i].split(\", \")"
   ]
  },
  {
   "cell_type": "code",
   "execution_count": null,
   "metadata": {},
   "outputs": [],
   "source": [
    "# Concatenate the strings with the split-apart modules to form the full ZFN sequence \n",
    "sequences = list()\n",
    "for i in range(len(modules)):\n",
    "    sequences.append(s1 + modules[i][0] + s2 + modules[i][1] + s3 + modules[i][2] + s4)\n",
    "print(sequences)"
   ]
  },
  {
   "cell_type": "code",
   "execution_count": null,
   "metadata": {},
   "outputs": [],
   "source": [
    "# Add sequences to a new spreadsheet\n",
    "zfn_sheet[\"SEQUENCES\"] = sequences\n",
    "zfn_sheet.to_excel(\"zfn_sequences.xlsx\")"
   ]
  }
 ],
 "metadata": {
  "kernelspec": {
   "display_name": "Python 3",
   "language": "python",
   "name": "python3"
  },
  "language_info": {
   "codemirror_mode": {
    "name": "ipython",
    "version": 3
   },
   "file_extension": ".py",
   "mimetype": "text/x-python",
   "name": "python",
   "nbconvert_exporter": "python",
   "pygments_lexer": "ipython3",
   "version": "3.8.5"
  }
 },
 "nbformat": 4,
 "nbformat_minor": 4
}
